{
  "cells": [
    {
      "cell_type": "markdown",
      "metadata": {
        "id": "fQc5WRA1FIVW"
      },
      "source": [
        "       "
      ]
    },
    {
      "cell_type": "markdown",
      "metadata": {
        "id": "zOiu2xKPFIVZ"
      },
      "source": [
        "You need to work on a popular Fashion MNIST dataset for this HW. The dataset includes tiny images of fashion pieces. The objective is to create a set of supervised learning models that can predict the type of item based on its image."
      ]
    },
    {
      "cell_type": "markdown",
      "metadata": {
        "id": "_wkqX_c-FIVa"
      },
      "source": [
        "In order to load the dataset you need to have `tensorflow V2` on your computer. Use the following code to install the package"
      ]
    },
    {
      "cell_type": "code",
      "execution_count": 2,
      "metadata": {
        "id": "HSEdkAEvFIVb"
      },
      "outputs": [],
      "source": [
        "# !pip install --upgrade tensorflow"
      ]
    },
    {
      "cell_type": "markdown",
      "metadata": {
        "id": "55lPOmYsFIVc"
      },
      "source": [
        "You can also check the version of it using the following code."
      ]
    },
    {
      "cell_type": "code",
      "execution_count": 3,
      "metadata": {
        "colab": {
          "base_uri": "https://localhost:8080/",
          "height": 35
        },
        "id": "HYuOLcGNFIVc",
        "outputId": "50092760-9bc3-462d-b58a-949b358abc32"
      },
      "outputs": [
        {
          "name": "stderr",
          "output_type": "stream",
          "text": [
            "/Users/chhaviverma/Library/Python/3.9/lib/python/site-packages/urllib3/__init__.py:35: NotOpenSSLWarning: urllib3 v2 only supports OpenSSL 1.1.1+, currently the 'ssl' module is compiled with 'LibreSSL 2.8.3'. See: https://github.com/urllib3/urllib3/issues/3020\n",
            "  warnings.warn(\n"
          ]
        },
        {
          "data": {
            "text/plain": [
              "'2.19.0'"
            ]
          },
          "execution_count": 3,
          "metadata": {},
          "output_type": "execute_result"
        }
      ],
      "source": [
        "import tensorflow as tf\n",
        "tf.__version__"
      ]
    },
    {
      "cell_type": "markdown",
      "metadata": {
        "id": "Ux8qnETGFIVd"
      },
      "source": [
        "Now, it's time to load the dataset"
      ]
    },
    {
      "cell_type": "code",
      "execution_count": 4,
      "metadata": {
        "colab": {
          "base_uri": "https://localhost:8080/",
          "height": 0
        },
        "id": "x7f0t2NyFIVd",
        "outputId": "7b6a1376-031b-4fd4-b08e-5a4424dceafa"
      },
      "outputs": [],
      "source": [
        "from tensorflow import keras\n",
        "fashion_mnist = keras.datasets.fashion_mnist\n",
        "(X_train, y_train), (X_test, y_test) = fashion_mnist.load_data()"
      ]
    },
    {
      "cell_type": "markdown",
      "metadata": {
        "id": "KVUojzA5FIVe"
      },
      "source": [
        "As can be seen from the above code, the dataset was divided into train and test sets. Let's take a look at the X_train"
      ]
    },
    {
      "cell_type": "code",
      "execution_count": 5,
      "metadata": {
        "colab": {
          "base_uri": "https://localhost:8080/",
          "height": 0
        },
        "id": "U_tXHbdJFIVf",
        "outputId": "e0b21211-728e-4699-8ee3-702a105007e3"
      },
      "outputs": [
        {
          "data": {
            "text/plain": [
              "(60000, 28, 28)"
            ]
          },
          "execution_count": 5,
          "metadata": {},
          "output_type": "execute_result"
        }
      ],
      "source": [
        "X_train.shape"
      ]
    },
    {
      "cell_type": "markdown",
      "metadata": {
        "id": "gyYJN2T2FIVf"
      },
      "source": [
        "As it is clear, the train dataset (`X_train`) contains 60,000 images of size 28 x 28. We can visualize one of the images using the following code:"
      ]
    },
    {
      "cell_type": "code",
      "execution_count": 6,
      "metadata": {
        "colab": {
          "base_uri": "https://localhost:8080/",
          "height": 406
        },
        "id": "I72SQ3euFIVf",
        "outputId": "65f26f13-a8fb-4988-e7cf-7f55bb19c1e6"
      },
      "outputs": [
        {
          "data": {
            "image/png": "[encoded data removed]",
            "text/plain": [
              "<Figure size 640x480 with 1 Axes>"
            ]
          },
          "metadata": {},
          "output_type": "display_data"
        }
      ],
      "source": [
        "import matplotlib as mpl\n",
        "import matplotlib.pyplot as plt\n",
        "%matplotlib inline\n",
        "\n",
        "sample_image = X_train[10]\n",
        "plt.imshow(sample_image, cmap='binary')\n",
        "plt.axis('off')\n",
        "plt.show()"
      ]
    },
    {
      "cell_type": "markdown",
      "metadata": {
        "id": "w9A34OyTFIVf"
      },
      "source": [
        "The `y_train` also includes values between 0 and 9. Each represents a particular category. For example, we can check the value of `y_train` for the above image."
      ]
    },
    {
      "cell_type": "code",
      "execution_count": 7,
      "metadata": {
        "colab": {
          "base_uri": "https://localhost:8080/",
          "height": 0
        },
        "id": "0r0eoWtTFIVf",
        "outputId": "78c24911-c4b0-452c-dafd-5027aae0282a"
      },
      "outputs": [
        {
          "data": {
            "text/plain": [
              "0"
            ]
          },
          "execution_count": 7,
          "metadata": {},
          "output_type": "execute_result"
        }
      ],
      "source": [
        "y_train[10]"
      ]
    },
    {
      "cell_type": "markdown",
      "metadata": {
        "id": "NEy_-XdJFIVg"
      },
      "source": [
        "The above code shows that the image belongs to category 0. To get the associated label with each category, you can use the following code:"
      ]
    },
    {
      "cell_type": "code",
      "execution_count": 8,
      "metadata": {
        "colab": {
          "base_uri": "https://localhost:8080/",
          "height": 0
        },
        "id": "P_wPQbomFIVg",
        "outputId": "3c5fb2b0-b20a-4043-ed91-eb0079f4146f"
      },
      "outputs": [
        {
          "name": "stdout",
          "output_type": "stream",
          "text": [
            "T-shirt/top\n"
          ]
        }
      ],
      "source": [
        "class_names = ['T-shirt/top','Trouser','Pullover','Dress','Coat','Sandal','Shirt','Sneaker','Bag','Ankle boot']\n",
        "print(class_names[y_train[10]])"
      ]
    },
    {
      "cell_type": "code",
      "execution_count": null,
      "metadata": {
        "id": "JK1Jw3YMFIVg"
      },
      "outputs": [],
      "source": []
    },
    {
      "cell_type": "markdown",
      "metadata": {
        "id": "-KTn3QBoFIVg"
      },
      "source": [
        "<ul>\n",
        "    <li><b>Task1:</b> Use the train set to train various supervised models and evaluate their performance using the test set.</li>\n",
        "    <ul>\n",
        "        <li>Use different supervised learning models.</li>\n",
        "        <li>Use different metrics such as <b>accuracy</b>, <b>precision</b>, <b>AUC</b>, and ... in your model evaluation. </li>\n",
        "        <li>It is not enough to report the metrics. It is crucial that you interpret the metrics for each model and compare them across different models.</li>\n",
        "        <li> You may need to use the cross validation methods for hyperparameter selection.</li>\n",
        "        <li> Specify the model that outperforms the other models.</b>\n",
        "    </ul>\n",
        "    <li><b>Task2:</b> Use the best model to predict your own fashion pieces.</li>\n",
        "    <ul>\n",
        "        <li>Take a picture of ten fashion pieces of your own (take pictures in square format).</li>\n",
        "        <li>Resize images to the correct size (28,28).</li>\n",
        "        <li>Grayscale your images.</li>\n",
        "        <li>Visualize all the images side by side</li>\n",
        "        <li>Use the best model in Task 1 to predict the label of each of your own images.</li>\n",
        "        <li>How accurate is the final result?</li>\n",
        "    </ul>\n",
        "</ul>"
      ]
    },
    {
      "cell_type": "markdown",
      "metadata": {
        "id": "EPIgNZHUFIVg"
      },
      "source": [
        "### Output"
      ]
    },
    {
      "cell_type": "markdown",
      "metadata": {
        "id": "W_hHhVPPFIVg"
      },
      "source": [
        "<ul>\n",
        "    <li>Make sure to put descriptive comments on your code</li>\n",
        "    <li>Use the markdown cell format in Jupiter to add your own interpretation to the result in each section.</li>\n",
        "    <li>Make sure to keep the output of your runs when you want to save the final version of the file.</li>\n",
        "    <li>The final work should be very well structured and should have a consistent flow of analysis.</li>\n",
        "</ul>"
      ]
    },
    {
      "cell_type": "markdown",
      "metadata": {
        "id": "EobFDbCUF6EH"
      },
      "source": [
        "# 0. Setup"
      ]
    },
    {
      "cell_type": "code",
      "execution_count": 9,
      "metadata": {
        "colab": {
          "base_uri": "https://localhost:8080/",
          "height": 0
        },
        "id": "otZU61lrFIVg",
        "outputId": "251f1111-5285-4962-e23f-a49548976285"
      },
      "outputs": [
        {
          "name": "stdout",
          "output_type": "stream",
          "text": [
            "Python: 3.9.6 (default, Apr 30 2025, 02:07:17) \n",
            "[Clang 17.0.0 (clang-1700.0.13.5)]\n",
            "Platform: macOS-15.5-arm64-arm-64bit\n",
            "TensorFlow: 2.19.0\n"
          ]
        }
      ],
      "source": [
        "# %pip -q install -U tensorflow scikit-learn matplotlib seaborn pillow\n",
        "\n",
        "import sys, platform, numpy as np, matplotlib.pyplot as plt, seaborn as sns\n",
        "import tensorflow as tf\n",
        "from tensorflow import keras\n",
        "from tensorflow.keras import layers\n",
        "from sklearn.metrics import accuracy_score, precision_score, classification_report, confusion_matrix, roc_auc_score\n",
        "from sklearn.model_selection import train_test_split, GridSearchCV, StratifiedKFold\n",
        "from sklearn.preprocessing import StandardScaler\n",
        "from sklearn.pipeline import Pipeline\n",
        "from sklearn.linear_model import LogisticRegression\n",
        "from sklearn.svm import SVC\n",
        "from sklearn.ensemble import RandomForestClassifier\n",
        "from PIL import Image\n",
        "import os, glob\n",
        "\n",
        "print(\"Python:\", sys.version)\n",
        "print(\"Platform:\", platform.platform())\n",
        "print(\"TensorFlow:\", tf.__version__)"
      ]
    },
    {
      "cell_type": "markdown",
      "metadata": {
        "id": "glefbJYdGFor"
      },
      "source": [
        "# 1. Load Fashion-MNIST and Basic EDA"
      ]
    },
    {
      "cell_type": "code",
      "execution_count": 10,
      "metadata": {
        "colab": {
          "base_uri": "https://localhost:8080/",
          "height": 0
        },
        "id": "E42ZugjKFIVg",
        "outputId": "85291b07-fb0e-46e6-bc77-523f5fcf5461"
      },
      "outputs": [
        {
          "data": {
            "text/plain": [
              "((60000, 28, 28), (10000, 28, 28), (60000,), (10000,))"
            ]
          },
          "execution_count": 10,
          "metadata": {},
          "output_type": "execute_result"
        }
      ],
      "source": [
        "# Load Fashion-MNIST\n",
        "(X_train, y_train), (X_test, y_test) = keras.datasets.fashion_mnist.load_data()\n",
        "\n",
        "X_train.shape, X_test.shape, y_train.shape, y_test.shape"
      ]
    },
    {
      "cell_type": "code",
      "execution_count": 11,
      "metadata": {
        "colab": {
          "base_uri": "https://localhost:8080/",
          "height": 306
        },
        "id": "ZXRDK1ZNFIVg",
        "outputId": "3160fa03-9804-47fb-d18d-8755ee48bf63"
      },
      "outputs": [
        {
          "data": {
            "image/png": "[encoded data removed]",
            "text/plain": [
              "<Figure size 1000x300 with 10 Axes>"
            ]
          },
          "metadata": {},
          "output_type": "display_data"
        }
      ],
      "source": [
        "# Visualize a few samples\n",
        "class_names = ['T-shirt/top','Trouser','Pullover','Dress','Coat',\n",
        "               'Sandal','Shirt','Sneaker','Bag','Ankle boot']\n",
        "\n",
        "plt.figure(figsize=(10,3))\n",
        "for i in range(10):\n",
        "    plt.subplot(2,5,i+1)\n",
        "    plt.imshow(X_train[i], cmap='binary')\n",
        "    plt.title(class_names[y_train[i]], fontsize=9)\n",
        "    plt.axis('off')\n",
        "plt.tight_layout()\n",
        "plt.show()"
      ]
    },
    {
      "cell_type": "markdown",
      "metadata": {
        "id": "5WlBR_kPGOtp"
      },
      "source": [
        "# 2. Preprocessing\n",
        "We’ll prepare two pipelines:\n",
        "\n",
        "- For classical ML (LogReg/SVM/RF): flatten 28x28 to 784 features; scale if needed.\n",
        "\n",
        "- For CNN: keep 28x28x1, normalize to."
      ]
    },
    {
      "cell_type": "code",
      "execution_count": 12,
      "metadata": {
        "id": "5sqzTRypFIVg"
      },
      "outputs": [],
      "source": [
        "# Normalization\n",
        "X_train_cnn = (X_train.astype(\"float32\") / 255.0)[..., np.newaxis]\n",
        "X_test_cnn  = (X_test.astype(\"float32\") / 255.0)[..., np.newaxis]\n",
        "\n",
        "# Flatten for classical ML\n",
        "X_train_flat = X_train.reshape(len(X_train), -1).astype(\"float32\")/255.0\n",
        "X_test_flat  = X_test.reshape(len(X_test), -1).astype(\"float32\")/255.0\n",
        "\n",
        "num_classes = 10"
      ]
    },
    {
      "cell_type": "markdown",
      "metadata": {
        "id": "8F7rqptQGWZU"
      },
      "source": [
        "# 3. Baselines and Classical Models (Task 1)\n",
        "We will evaluate:\n",
        "\n",
        "- Logistic Regression (multinomial)\n",
        "- Linear SVM and RBF SVM (using probabilities via probability=True)\n",
        "- Random Forest\n",
        "\n",
        "We’ll compute accuracy, macro-precision, and OvR ROC-AUC (requires predict_proba). For SVM linear we’ll do two runs: one with calibrated probs via probability=True (note the slower training) or use decision_function with OneVsRestClassifier+CalibratedClassifierCV if desired. To keep runtime sane, we’ll limit grid sizes."
      ]
    },
    {
      "cell_type": "code",
      "execution_count": 13,
      "metadata": {
        "id": "4-b604waFIVg"
      },
      "outputs": [],
      "source": [
        "def evaluate_model(clf, X_tr, y_tr, X_te, y_te, model_name):\n",
        "    y_proba = None\n",
        "    if hasattr(clf, \"predict_proba\"):\n",
        "        y_proba = clf.predict_proba(X_te)\n",
        "    elif hasattr(clf, \"decision_function\"):\n",
        "        # Convert decision scores to probabilities via softmax-like normalization per class\n",
        "        # Note: not a calibrated probability; acceptable for a rough AUC comparison if needed\n",
        "        scores = clf.decision_function(X_te)\n",
        "        # If binary shape, convert to two-column\n",
        "        if scores.ndim == 1:\n",
        "            scores = np.vstack([-scores, scores]).T\n",
        "        # Min-max per row to 0..1\n",
        "        s_min = scores.min(axis=1, keepdims=True)\n",
        "        s_max = scores.max(axis=1, keepdims=True)\n",
        "        denom = np.where((s_max - s_min)==0, 1, (s_max - s_min))\n",
        "        y_proba = (scores - s_min) / denom\n",
        "\n",
        "    y_pred = clf.predict(X_te)\n",
        "\n",
        "    acc = accuracy_score(y_te, y_pred)\n",
        "    prec_macro = precision_score(y_te, y_pred, average='macro', zero_division=0)\n",
        "\n",
        "    auc_ovr = None\n",
        "    if y_proba is not None:\n",
        "        # One-vs-Rest multiclass AUC with macro averaging\n",
        "        y_true_bin = keras.utils.to_categorical(y_te, num_classes=num_classes)\n",
        "        try:\n",
        "            auc_ovr = roc_auc_score(y_true_bin, y_proba, average='macro', multi_class='ovr')\n",
        "        except Exception:\n",
        "            auc_ovr = None\n",
        "\n",
        "    print(f\"{model_name} — Accuracy: {acc:.4f} | Macro-Precision: {prec_macro:.4f} | OvR AUC: {auc_ovr if auc_ovr is not None else 'n/a'}\")\n",
        "    return {\"model\": model_name, \"acc\": acc, \"prec_macro\": prec_macro, \"auc_ovr\": auc_ovr}\n",
        "\n",
        "results = []"
      ]
    },
    {
      "cell_type": "markdown",
      "metadata": {
        "id": "FtSJfBXHGklY"
      },
      "source": [
        "## 3.1 Logistic Regression (with small grid search)"
      ]
    },
    {
      "cell_type": "code",
      "execution_count": 14,
      "metadata": {
        "id": "I6rhAF47GmAC"
      },
      "outputs": [
        {
          "name": "stdout",
          "output_type": "stream",
          "text": [
            "Fitting 2 folds for each of 3 candidates, totalling 6 fits\n"
          ]
        },
        {
          "name": "stderr",
          "output_type": "stream",
          "text": [
            "/Users/chhaviverma/Library/Python/3.9/lib/python/site-packages/sklearn/linear_model/_sag.py:348: ConvergenceWarning: The max_iter was reached which means the coef_ did not converge\n",
            "  warnings.warn(\n",
            "/Users/chhaviverma/Library/Python/3.9/lib/python/site-packages/sklearn/linear_model/_sag.py:348: ConvergenceWarning: The max_iter was reached which means the coef_ did not converge\n",
            "  warnings.warn(\n",
            "/Users/chhaviverma/Library/Python/3.9/lib/python/site-packages/sklearn/linear_model/_sag.py:348: ConvergenceWarning: The max_iter was reached which means the coef_ did not converge\n",
            "  warnings.warn(\n",
            "/Users/chhaviverma/Library/Python/3.9/lib/python/site-packages/sklearn/linear_model/_sag.py:348: ConvergenceWarning: The max_iter was reached which means the coef_ did not converge\n",
            "  warnings.warn(\n"
          ]
        },
        {
          "name": "stdout",
          "output_type": "stream",
          "text": [
            "[CV] END .........................................clf__C=1.0; total time=  40.3s\n",
            "[CV] END .........................................clf__C=2.0; total time=  40.2s\n",
            "[CV] END .........................................clf__C=1.0; total time=  40.4s\n",
            "[CV] END .........................................clf__C=0.5; total time=  40.4s\n"
          ]
        },
        {
          "name": "stderr",
          "output_type": "stream",
          "text": [
            "/Users/chhaviverma/Library/Python/3.9/lib/python/site-packages/sklearn/linear_model/_sag.py:348: ConvergenceWarning: The max_iter was reached which means the coef_ did not converge\n",
            "  warnings.warn(\n",
            "/Users/chhaviverma/Library/Python/3.9/lib/python/site-packages/sklearn/linear_model/_sag.py:348: ConvergenceWarning: The max_iter was reached which means the coef_ did not converge\n",
            "  warnings.warn(\n"
          ]
        },
        {
          "name": "stdout",
          "output_type": "stream",
          "text": [
            "[CV] END .........................................clf__C=0.5; total time=  40.5s\n",
            "[CV] END .........................................clf__C=2.0; total time=  40.5s\n"
          ]
        },
        {
          "name": "stderr",
          "output_type": "stream",
          "text": [
            "/Users/chhaviverma/Library/Python/3.9/lib/python/site-packages/sklearn/linear_model/_sag.py:348: ConvergenceWarning: The max_iter was reached which means the coef_ did not converge\n",
            "  warnings.warn(\n"
          ]
        },
        {
          "name": "stdout",
          "output_type": "stream",
          "text": [
            "LR best params: {'clf__C': 1.0}\n",
            "LogisticRegression — Accuracy: 0.8459 | Macro-Precision: 0.8450 | OvR AUC: 0.9834649888888889\n"
          ]
        },
        {
          "name": "stderr",
          "output_type": "stream",
          "text": [
            "/Users/chhaviverma/Library/Python/3.9/lib/python/site-packages/sklearn/linear_model/_sag.py:348: ConvergenceWarning: The max_iter was reached which means the coef_ did not converge\n",
            "  warnings.warn(\n"
          ]
        }
      ],
      "source": [
        "# Use a smaller subset for grid search to speed up tuning\n",
        "from sklearn.model_selection import train_test_split\n",
        "X_train_sub, _, y_train_sub, _ = train_test_split(X_train_flat, y_train, train_size=8000, stratify=y_train, random_state=42)\n",
        "pipe_lr = Pipeline([\n",
        "    (\"scaler\", StandardScaler(with_mean=False)),  # with_mean=False safer for sparse-like; here dense but fine\n",
        "    (\"clf\", LogisticRegression(max_iter=200, solver='saga', tol=1e-3, n_jobs=-1))\n",
        "])\n",
        "\n",
        "param_lr = {\n",
        "    \"clf__C\": [1.0, 0.5, 2.0]\n",
        "}\n",
        "\n",
        "cv = StratifiedKFold(n_splits=2, shuffle=True, random_state=42)\n",
        "grid_lr = GridSearchCV(pipe_lr, param_lr, cv=cv, scoring='accuracy', n_jobs=-1, verbose=2)\n",
        "grid_lr.fit(X_train_sub, y_train_sub)\n",
        "best_lr = Pipeline([\n",
        "    (\"scaler\", StandardScaler(with_mean=False)),\n",
        "    (\"clf\", LogisticRegression(max_iter=200, solver='saga', tol=1e-3, n_jobs=-1, C=grid_lr.best_params_[\"clf__C\"]))\n",
        "])\n",
        "print(\"training full dataset\")\n",
        "best_lr.fit(X_train_flat, y_train)\n",
        "print(\"LR best params:\", grid_lr.best_params_)\n",
        "\n",
        "res_lr = evaluate_model(best_lr, X_train_flat, y_train, X_test_flat, y_test, \"LogisticRegression\")\n",
        "results.append(res_lr)"
      ]
    },
    {
      "cell_type": "markdown",
      "metadata": {
        "id": "G5RzwAZJGoDA"
      },
      "source": [
        "## 3.2 Support Vector Machines\n",
        "Linear SVM (probability=True uses Platt scaling internally; slower):"
      ]
    },
    {
      "cell_type": "code",
      "execution_count": null,
      "metadata": {
        "id": "Gem-IcU5Guio"
      },
      "outputs": [
        {
          "name": "stdout",
          "output_type": "stream",
          "text": [
            "Fitting 2 folds for each of 2 candidates, totalling 4 fits\n",
            "[CV] END .........................................clf__C=0.5; total time=  24.6s\n",
            "[CV] END .........................................clf__C=1.0; total time=  24.8s\n",
            "[CV] END .........................................clf__C=0.5; total time=  24.6s\n",
            "[CV] END .........................................clf__C=1.0; total time=  24.8s\n",
            "[CV] END .........................................clf__C=1.0; total time=  25.6s\n",
            "[CV] END .........................................clf__C=0.5; total time=  25.7s\n",
            "[CV] END .........................................clf__C=1.0; total time=  25.6s\n",
            "[CV] END .........................................clf__C=0.5; total time=  25.7s\n",
            "SVM-linear best params: {'clf__C': 0.5}\n",
            "SVM-linear best params: {'clf__C': 0.5}\n"
          ]
        }
      ],
      "source": [
        "# Use a smaller subset for grid search to speed up tuning (same as logreg)\n",
        "X_train_sub, _, y_train_sub, _ = train_test_split(X_train_flat, y_train, train_size=8000, stratify=y_train, random_state=42)\n",
        "pipe_svm_lin = Pipeline([\n",
        "    (\"scaler\", StandardScaler(with_mean=False)),\n",
        "    (\"clf\", SVC(kernel='linear', probability=True))\n",
        "])\n",
        "\n",
        "param_svm_lin = {\"clf__C\": [0.5, 1.0]}\n",
        "grid_svm_lin = GridSearchCV(pipe_svm_lin, param_svm_lin, cv=cv, scoring='accuracy', n_jobs=-1, verbose=2)\n",
        "grid_svm_lin.fit(X_train_sub, y_train_sub)\n",
        "best_svm_lin = grid_svm_lin.best_estimator_\n",
        "print(\"SVM-linear best params:\", grid_svm_lin.best_params_)\n",
        "\n",
        "# Retrain best SVM-linear on full data for evaluation\n",
        "best_svm_lin.fit(X_train_flat, y_train)\n",
        "res_svm_lin = evaluate_model(best_svm_lin, X_train_flat, y_train, X_test_flat, y_test, \"SVM-Linear\")\n",
        "results.append(res_svm_lin)\n"
      ]
    },
    {
      "cell_type": "markdown",
      "metadata": {
        "id": "R5b12bntGuEP"
      },
      "source": [
        "### RBF SVM:\n",
        "\n"
      ]
    },
    {
      "cell_type": "code",
      "execution_count": null,
      "metadata": {
        "id": "6jMJDLgrG0N7"
      },
      "outputs": [],
      "source": [
        "# Use a smaller subset for grid search to speed up tuning (same as logreg)\n",
        "X_train_sub, _, y_train_sub, _ = train_test_split(X_train_flat, y_train, train_size=8000, stratify=y_train, random_state=42)\n",
        "pipe_svm_rbf = Pipeline([\n",
        "    (\"scaler\", StandardScaler(with_mean=False)),\n",
        "    (\"clf\", SVC(kernel='rbf', probability=True))\n",
        "])\n",
        "\n",
        "param_svm_rbf = {\"clf__C\": [1.0], \"clf__gamma\": ['scale']}\n",
        "grid_svm_rbf = GridSearchCV(pipe_svm_rbf, param_svm_rbf, cv=cv, scoring='accuracy', n_jobs=-1, verbose=2)\n",
        "grid_svm_rbf.fit(X_train_sub, y_train_sub)\n",
        "best_svm_rbf = grid_svm_rbf.best_estimator_\n",
        "print(\"SVM-RBF best params:\", grid_svm_rbf.best_params_)\n",
        "\n",
        "# Retrain best SVM-RBF on full data for evaluation\n",
        "best_svm_rbf.fit(X_train_flat, y_train)\n",
        "res_svm_rbf = evaluate_model(best_svm_rbf, X_train_flat, y_train, X_test_flat, y_test, \"SVM-RBF\")\n",
        "results.append(res_svm_rbf)\n"
      ]
    },
    {
      "cell_type": "markdown",
      "metadata": {
        "id": "Rl-wa-D1Gz5W"
      },
      "source": [
        "## 3.3 Random Forest"
      ]
    },
    {
      "cell_type": "code",
      "execution_count": null,
      "metadata": {
        "id": "lbqh7AbyG5F5"
      },
      "outputs": [],
      "source": [
        "# Use a smaller subset for initial fitting to speed up tuning (same as logreg)\n",
        "X_train_sub, _, y_train_sub, _ = train_test_split(X_train_flat, y_train, train_size=8000, stratify=y_train, random_state=42)\n",
        "rf = RandomForestClassifier(\n",
        "    n_estimators=300, max_depth=None, n_jobs=-1, random_state=42, class_weight=None\n",
        ")\n",
        "rf.fit(X_train_sub, y_train_sub)\n",
        "# Retrain on full data for evaluation\n",
        "rf.fit(X_train_flat, y_train)\n",
        "res_rf = evaluate_model(rf, X_train_flat, y_train, X_test_flat, y_test, \"RandomForest\")\n",
        "results.append(res_rf)\n"
      ]
    },
    {
      "cell_type": "markdown",
      "metadata": {
        "id": "klFLVHdoG7IG"
      },
      "source": [
        "## 3.4 Compare Classical Models"
      ]
    },
    {
      "cell_type": "code",
      "execution_count": null,
      "metadata": {
        "id": "IimFwb4qG7Ac"
      },
      "outputs": [],
      "source": [
        "import pandas as pd\n",
        "df_results = pd.DataFrame(results).sort_values(by=\"acc\", ascending=False)\n",
        "df_results\n"
      ]
    },
    {
      "cell_type": "markdown",
      "metadata": {
        "id": "TeSUH4YvG639"
      },
      "source": [
        "# add confusion matrices:"
      ]
    },
    {
      "cell_type": "code",
      "execution_count": null,
      "metadata": {
        "id": "R79L6mxAG6sQ"
      },
      "outputs": [],
      "source": [
        "best_name = df_results.iloc[0][\"model\"]\n",
        "best_clf = {\n",
        "    \"LogisticRegression\": best_lr,\n",
        "    \"SVM-Linear\": best_svm_lin,\n",
        "    \"SVM-RBF\": best_svm_rbf,\n",
        "    \"RandomForest\": rf\n",
        "}[best_name]\n",
        "\n",
        "y_pred_best = best_clf.predict(X_test_flat)\n",
        "cm = confusion_matrix(y_test, y_pred_best)\n",
        "plt.figure(figsize=(7,6))\n",
        "sns.heatmap(cm, annot=False, cmap='Blues', xticklabels=class_names, yticklabels=class_names)\n",
        "plt.xlabel(\"Predicted\"); plt.ylabel(\"True\"); plt.title(f\"Confusion Matrix — {best_name}\")\n",
        "plt.tight_layout(); plt.show()\n",
        "\n",
        "print(classification_report(y_test, y_pred_best, target_names=class_names))\n"
      ]
    },
    {
      "cell_type": "markdown",
      "metadata": {
        "id": "GLFgzGI4G5vB"
      },
      "source": [
        "# 4. CNN Model (Task 1, Deep Learning)\n",
        "A compact CNN often outperforms classical models on Fashion-MNIST."
      ]
    },
    {
      "cell_type": "code",
      "execution_count": null,
      "metadata": {
        "id": "uUHqneQvG5kX"
      },
      "outputs": [],
      "source": [
        "def make_cnn():\n",
        "    inputs = keras.Input(shape=(28,28,1))\n",
        "    x = layers.Conv2D(32, (3,3), activation='relu')(inputs)\n",
        "    x = layers.MaxPooling2D()(x)\n",
        "    x = layers.Conv2D(64, (3,3), activation='relu')(x)\n",
        "    x = layers.MaxPooling2D()(x)\n",
        "    x = layers.Flatten()(x)\n",
        "    x = layers.Dropout(0.3)(x)\n",
        "    x = layers.Dense(128, activation='relu')(x)\n",
        "    outputs = layers.Dense(num_classes, activation='softmax')(x)\n",
        "    model = keras.Model(inputs, outputs)\n",
        "    model.compile(optimizer='adam', loss='sparse_categorical_crossentropy', metrics=['accuracy'])\n",
        "    return model\n",
        "\n",
        "cnn = make_cnn()\n",
        "history = cnn.fit(\n",
        "    X_train_cnn, y_train,\n",
        "    validation_split=0.1,\n",
        "    epochs=8,\n",
        "    batch_size=128,\n",
        "    verbose=1\n",
        ")\n",
        "\n",
        "test_loss, test_acc = cnn.evaluate(X_test_cnn, y_test, verbose=2)\n",
        "print(f\"CNN — Accuracy: {test_acc:.4f}\")\n",
        "\n",
        "y_proba_cnn = cnn.predict(X_test_cnn, verbose=2)\n",
        "y_pred_cnn = np.argmax(y_proba_cnn, axis=1)\n",
        "\n",
        "prec_macro_cnn = precision_score(y_test, y_pred_cnn, average='macro', zero_division=0)\n",
        "y_true_bin = keras.utils.to_categorical(y_test, num_classes=num_classes)\n",
        "auc_ovr_cnn = roc_auc_score(y_true_bin, y_proba_cnn, average='macro', multi_class='ovr')\n",
        "\n",
        "print(f\"CNN — Macro-Precision: {prec_macro_cnn:.4f} | OvR AUC: {auc_ovr_cnn:.4f}\")\n"
      ]
    },
    {
      "cell_type": "markdown",
      "metadata": {
        "id": "o7hv5ABDHUI4"
      },
      "source": [
        "Add a markdown interpretation comparing CNN vs the best classical model:\n",
        "\n",
        "Accuracy and macro-precision differences\n",
        "\n",
        "CNN’s ability to capture spatial structure vs flattened features\n",
        "\n",
        "Optional: confusion matrix for CNN."
      ]
    },
    {
      "cell_type": "code",
      "execution_count": null,
      "metadata": {
        "id": "S-2q5RDQHTzy"
      },
      "outputs": [],
      "source": [
        "cm_cnn = confusion_matrix(y_test, y_pred_cnn)\n",
        "plt.figure(figsize=(7,6))\n",
        "sns.heatmap(cm_cnn, annot=False, cmap='Greens', xticklabels=class_names, yticklabels=class_names)\n",
        "plt.xlabel(\"Predicted\"); plt.ylabel(\"True\"); plt.title(\"Confusion Matrix — CNN\")\n",
        "plt.tight_layout(); plt.show()\n",
        "\n",
        "print(classification_report(y_test, y_pred_cnn, target_names=class_names))\n"
      ]
    },
    {
      "cell_type": "markdown",
      "metadata": {
        "id": "th4PPyQTHTpX"
      },
      "source": [
        "# 5. Pick Best Model"
      ]
    },
    {
      "cell_type": "code",
      "execution_count": null,
      "metadata": {
        "id": "k5iJS4aJHThB"
      },
      "outputs": [],
      "source": [
        "# Consolidate with CNN metrics\n",
        "row_cnn = {\"model\":\"CNN\", \"acc\": float(test_acc), \"prec_macro\": float(prec_macro_cnn), \"auc_ovr\": float(auc_ovr_cnn)}\n",
        "df_all = pd.concat([df_results, pd.DataFrame([row_cnn])]).sort_values(by=\"acc\", ascending=False)\n",
        "df_all\n"
      ]
    },
    {
      "cell_type": "markdown",
      "metadata": {
        "id": "THJpX_PWHTYB"
      },
      "source": [
        "Add markdown:\n",
        "\n",
        "State the best model (likely CNN by accuracy and AUC).\n",
        "\n",
        "Briefly justify selection and note any trade-offs (training time vs performance).\n",
        "\n",
        "If the classical model somehow wins (rare), proceed with that instead for Task 2."
      ]
    },
    {
      "cell_type": "markdown",
      "metadata": {
        "id": "pMKS2VpPHzrK"
      },
      "source": [
        "# 6. Task 2: Predict On Your Own 10 Images\n",
        "Instructions:\n",
        "\n",
        "Take 10 square photos (one per class if possible).\n",
        "\n",
        "Save as PNG/JPG in a folder.\n",
        "\n",
        "The pipeline: load → convert to grayscale → resize to 28x28 → normalize → shape to (28,28,1) → batch predict."
      ]
    },
    {
      "cell_type": "code",
      "execution_count": null,
      "metadata": {
        "id": "g-aVCT5aHTQG"
      },
      "outputs": [],
      "source": [
        "# Path with 10 images\n",
        "user_img_dir = \"YOUR_10_IMAGES_FOLDER\"  # e.g., \"my_fashion_photos\"\n",
        "paths = sorted(glob.glob(os.path.join(user_img_dir, \"*.*\")))\n",
        "assert len(paths) >= 10, f\"Found {len(paths)} images, need at least 10.\"\n",
        "\n",
        "def load_and_prepare_image(p, target=(28,28)):\n",
        "    img = Image.open(p).convert(\"L\")   # grayscale\n",
        "    img = img.resize(target)           # ensure (28,28)\n",
        "    arr = np.array(img, dtype=\"float32\")/255.0\n",
        "    return arr\n",
        "\n",
        "user_imgs = [load_and_prepare_image(p) for p in paths[:10]]\n",
        "user_stack_cnn = np.stack(user_imgs)[..., np.newaxis]  # (N,28,28,1)\n"
      ]
    },
    {
      "cell_type": "markdown",
      "metadata": {
        "id": "YbfzIJFvHTHF"
      },
      "source": [
        "Visualize side-by-side:\n",
        "\n"
      ]
    },
    {
      "cell_type": "code",
      "execution_count": null,
      "metadata": {
        "id": "P5QHkJ4UHS-Z"
      },
      "outputs": [],
      "source": [
        "plt.figure(figsize=(10,3))\n",
        "for i, (p, arr) in enumerate(zip(paths[:10], user_imgs)):\n",
        "    plt.subplot(2,5,i+1)\n",
        "    plt.imshow(arr, cmap='binary')\n",
        "    plt.title(os.path.basename(p)[:12], fontsize=8)\n",
        "    plt.axis('off')\n",
        "plt.tight_layout()\n",
        "plt.show()\n"
      ]
    },
    {
      "cell_type": "markdown",
      "metadata": {
        "id": "DzAoByAYHSy-"
      },
      "source": [
        "Predict with the best model (choose CNN if it won):\n",
        "\n"
      ]
    },
    {
      "cell_type": "code",
      "execution_count": null,
      "metadata": {
        "id": "Cw8LqODSH-MR"
      },
      "outputs": [],
      "source": [
        "use_cnn = df_all.iloc[0][\"model\"] == \"CNN\"\n",
        "\n",
        "if use_cnn:\n",
        "    probs = cnn.predict(user_stack_cnn, verbose=2)\n",
        "    preds = np.argmax(probs, axis=1)\n",
        "else:\n",
        "    # If a classical model won:\n",
        "    user_stack_flat = user_stack_cnn.reshape(len(user_imgs), -1)\n",
        "    best_name = df_all.iloc[0][\"model\"]\n",
        "    best_clf = {\n",
        "        \"LogisticRegression\": best_lr,\n",
        "        \"SVM-Linear\": best_svm_lin,\n",
        "        \"SVM-RBF\": best_svm_rbf,\n",
        "        \"RandomForest\": rf\n",
        "    }[best_name]\n",
        "    preds = best_clf.predict(user_stack_flat)\n",
        "\n",
        "pred_labels = [class_names[i] for i in preds]\n",
        "pred_labels\n"
      ]
    },
    {
      "cell_type": "markdown",
      "metadata": {
        "id": "7peOItE_IBE6"
      },
      "source": [
        "If you have ground-truth labels for your images (optional), compute accuracy:\n",
        "\n"
      ]
    },
    {
      "cell_type": "code",
      "execution_count": null,
      "metadata": {
        "id": "KdJXSms8IAWj"
      },
      "outputs": [],
      "source": [
        "# Optional: set your true labels if known (list of 10 strings matching class_names)\n",
        "# Example: y_true_names = ['Sneaker','Bag',...]\n",
        "y_true_names = None  # replace with actual list\n",
        "\n",
        "if y_true_names is not None:\n",
        "    true_idx = [class_names.index(n) for n in y_true_names]\n",
        "    pred_acc = accuracy_score(true_idx, preds)\n",
        "    print(\"User images accuracy:\", pred_acc)\n"
      ]
    },
    {
      "cell_type": "markdown",
      "metadata": {
        "id": "ZQHVHofMG5XC"
      },
      "source": [
        "# 7. Short Discussion and Conclusions\n",
        "Use markdown to:\n",
        "\n",
        "Summarize which model outperformed and by how much.\n",
        "\n",
        "Interpret metric differences (accuracy vs macro-precision vs AUC).\n",
        "\n",
        "Mention practical considerations (speed, simplicity, deployment).\n",
        "\n",
        "Note improvements: data augmentation, deeper CNN (BatchNorm, more epochs), regularization, or transfer learning variants.\n",
        "\n"
      ]
    }
  ],
  "metadata": {
    "colab": {
      "provenance": []
    },
    "kernelspec": {
      "display_name": "Python 3",
      "language": "python",
      "name": "python3"
    },
    "language_info": {
      "codemirror_mode": {
        "name": "ipython",
        "version": 3
      },
      "file_extension": ".py",
      "mimetype": "text/x-python",
      "name": "python",
      "nbconvert_exporter": "python",
      "pygments_lexer": "ipython3",
      "version": "3.9.6"
    }
  },
  "nbformat": 4,
  "nbformat_minor": 0
}
